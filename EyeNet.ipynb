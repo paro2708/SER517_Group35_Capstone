{
  "nbformat": 4,
  "nbformat_minor": 0,
  "metadata": {
    "colab": {
      "provenance": [],
      "authorship_tag": "ABX9TyMcRfjHHrelOnx2eFH6Pttl",
      "include_colab_link": true
    },
    "kernelspec": {
      "name": "python3",
      "display_name": "Python 3"
    },
    "language_info": {
      "name": "python"
    }
  },
  "cells": [
    {
      "cell_type": "markdown",
      "metadata": {
        "id": "view-in-github",
        "colab_type": "text"
      },
      "source": [
        "<a href=\"https://colab.research.google.com/github/paro2708/SER517_Group35_Capstone/blob/GazeRefineNet/EyeNet.ipynb\" target=\"_parent\"><img src=\"https://colab.research.google.com/assets/colab-badge.svg\" alt=\"Open In Colab\"/></a>"
      ]
    },
    {
      "cell_type": "markdown",
      "source": [
        "To add"
      ],
      "metadata": {
        "id": "vD-T5AWykObL"
      }
    },
    {
      "cell_type": "markdown",
      "source": [
        "# EyeNet"
      ],
      "metadata": {
        "id": "b1Rol1BFNtqq"
      }
    },
    {
      "cell_type": "markdown",
      "source": [
        "EyeNet model to be used to tranfer learning to GazeRefineNet model"
      ],
      "metadata": {
        "id": "-WWkF0zbNwDj"
      }
    },
    {
      "cell_type": "code",
      "source": [
        "import torchvision.models as models\n",
        "import torch\n",
        "from torch import nn\n",
        "import numpy as np\n",
        "import math\n",
        "import pdb"
      ],
      "metadata": {
        "id": "YSrYPIwcNvdC"
      },
      "execution_count": 1,
      "outputs": []
    },
    {
      "cell_type": "code",
      "source": [
        "class EyeNet(nn.Module):\n",
        "  def __init__(self, use_rnn=True):\n",
        "    super(EyeNet, self).__init__()\n",
        "    self.resnet = models.resnet18(\n",
        "        #block = models.resnet.BasicBlock,\n",
        "        #layers = [2,2,2,2],\n",
        "        pretrained=False,        # Not using pre-trained weights\n",
        "        num_classes=128,        # (IMP)Number of output classes - needs to be defined based on number of eye features needed\n",
        "        norm_layer=nn.InstanceNorm2d,  # Normalization layer - layers need to be added\n",
        "    )\n",
        "    self.use_rnn = use_rnn\n",
        "\n",
        "    # Optional recurrent component - GRUCell\n",
        "    if use_rnn:\n",
        "            self.rnn = nn.GRUCell(input_size=128, hidden_size=128)\n",
        "            #self.fc_gaze = nn.Linear(128, 3)  # Output size for gaze direction\n",
        "\n",
        "    self.fc_gaze = nn.Sequential(\n",
        "                    nn.Linear(128, 128),\n",
        "                    nn.SELU(inplace=True),\n",
        "                    nn.Linear(128, 2, bias=False),\n",
        "                    nn.Tanh(),\n",
        "                )  # Output size for gaze direction\n",
        "    self.fc_pupil = nn.Sequential(\n",
        "                      nn.Linear(128, 128),\n",
        "                      nn.SELU(inplace=True),\n",
        "                      nn.Linear(128, 1),\n",
        "                      nn.ReLU(inplace=True),\n",
        "                  )  # Output size for pupil size\n",
        "\n",
        "  def forward(self, input_eye_image, rnn_output=None):\n",
        "\n",
        "    features = self.resnet(input_eye_image)\n",
        "\n",
        "    if self.use_rnn:\n",
        "      rnn_features=features\n",
        "      batch_size, feature_size = features.shape\n",
        "      hidden = torch.zeros(batch_size, 128, device=rnn_features.device)\n",
        "      previous_results = []\n",
        "      output=[]\n",
        "\n",
        "      #pdb.set_trace()\n",
        "      for i in range(batch_size):  # Loop through layers\n",
        "\n",
        "        if rnn_output is not None:\n",
        "            previous_results = output[i-1] if i>0 else None\n",
        "\n",
        "        GRUResult= self.rnn(rnn_features,hidden)\n",
        "\n",
        "        if isinstance(GRUResult, tuple):\n",
        "          rnn_features=GRUResult[0]\n",
        "          output[i] = GRUResult\n",
        "        else:\n",
        "          rnn_features = GRUResult\n",
        "          output.append(GRUResult)\n",
        "\n",
        "        # output.append(rnn_cell(rnn_features, previous_results))  # Forward pass through GRU cell\n",
        "        # rnn_features=output\n",
        "      features=rnn_features\n",
        "      #pdb.set_trace()\n",
        "      print(\"Features shape after GRUCell or ResNet:\", features.shape)\n",
        "\n",
        "    gaze_direction = self.fc_gaze(features)\n",
        "    pupil_size =self.fc_pupil(features)\n",
        "    print(\"Gaze Direction shape before linear layer:\", gaze_direction.shape)\n",
        "    print(\"Pupil Size shape before linear layer:\", pupil_size.shape)\n",
        "    return gaze_direction, pupil_size\n",
        "\n",
        "   # Define custom loss functions\n",
        "  def gaze_loss(g, g_hat):\n",
        "    loss = torch.mean(torch.acos(torch.sum(g * g_hat, dim=1) / (torch.norm(g, dim=1) * torch.norm(g_hat, dim=1))) * (180 / torch.pi))\n",
        "    return loss\n",
        "\n",
        "  def pupil_loss(p, p_hat):\n",
        "    loss = torch.mean(torch.abs(p - p_hat))\n",
        "    return loss\n",
        "\n",
        "#To test if the models can run image data for eye coordinates\n",
        "#eyenet = EyeNet(use_rnn=True)  # You can set use_rnn to True or False based on your requirement\n",
        "\n",
        "# Generate sample input data (e.g., random tensor with appropriate dimensions)\n",
        "# assuming batch size = 1, 3 channels (RGB), and image size 224x224\n",
        "# input_data = torch.randn(1, 3, 224, 224)\n",
        "\n",
        "# # Pass the input data through the EyeNet model to get predictions\n",
        "# gaze_direction, pupil_size = eyenet(input_data)\n",
        "\n",
        "# magnitude = torch.norm(gaze_direction, p=2)\n",
        "\n",
        "# # Print the predictions\n",
        "# print(\"Predicted Gaze Direction:\", gaze_direction)\n",
        "# print(\"Predicted Pupil Size:\", pupil_size)\n",
        "# print(\"Normalized Gaze Direction Magnitude(in radians):\", magnitude.item())\n",
        "\n",
        "\n"
      ],
      "metadata": {
        "id": "mdstE3XfPJkU"
      },
      "execution_count": 18,
      "outputs": []
    },
    {
      "cell_type": "code",
      "source": [
        "from torchvision import transforms\n",
        "from PIL import Image\n",
        "\n",
        "eyenet= EyeNet()\n",
        "\n",
        "# Load and preprocess the image\n",
        "image_path = '/WhatsApp Image 2024-03-11 at 13.11.44_0b8699f8.jpg'\n",
        "preprocess = transforms.Compose([\n",
        "    transforms.Resize(224),\n",
        "    transforms.CenterCrop(224),\n",
        "    transforms.ToTensor(),\n",
        "    transforms.Normalize(mean=[0.485, 0.456, 0.406], std=[0.229, 0.224, 0.225]),\n",
        "])\n",
        "\n",
        "img = Image.open(image_path)\n",
        "img_tensor = preprocess(img)  # Add batch dimension\n",
        "\n",
        "print(img_tensor.unsqueeze(0).shape)\n",
        "\n",
        "#%debug\n",
        "# Assuming the EyeNet model is already defined and initialized as eyenet\n",
        "gaze_direction, pupil_size = eyenet(img_tensor.unsqueeze(0))\n",
        "\n",
        "print(\"Predicted Gaze Direction:\", gaze_direction)\n",
        "print(\"Predicted Pupil Size:\", pupil_size)\n",
        "magnitude = torch.norm(gaze_direction, p=2)\n",
        "magnitude = magnitude *(180/np.pi)\n",
        "print(\"Normalized Gaze Direction Magnitude(in radians):\", magnitude.item())\n"
      ],
      "metadata": {
        "colab": {
          "base_uri": "https://localhost:8080/"
        },
        "id": "P6rPKB7Lo4p3",
        "outputId": "04b459bb-3ec3-44c2-dc7a-40c3812028f7"
      },
      "execution_count": 19,
      "outputs": [
        {
          "output_type": "stream",
          "name": "stdout",
          "text": [
            "torch.Size([1, 3, 224, 224])\n",
            "Features shape after GRUCell or ResNet: torch.Size([1, 128])\n",
            "Gaze Direction shape before linear layer: torch.Size([1, 2])\n",
            "Pupil Size shape before linear layer: torch.Size([1, 1])\n",
            "Predicted Gaze Direction: tensor([[0.0626, 0.0121]], grad_fn=<TanhBackward0>)\n",
            "Predicted Pupil Size: tensor([[0.1066]], grad_fn=<ReluBackward0>)\n",
            "Normalized Gaze Direction Magnitude(in radians): 3.6507554054260254\n"
          ]
        }
      ]
    },
    {
      "cell_type": "markdown",
      "source": [
        "# Training Script"
      ],
      "metadata": {
        "id": "sAxaK0SNSoyV"
      }
    },
    {
      "cell_type": "code",
      "source": [],
      "metadata": {
        "id": "9iS9CVM7TQYH"
      },
      "execution_count": null,
      "outputs": []
    }
  ]
}