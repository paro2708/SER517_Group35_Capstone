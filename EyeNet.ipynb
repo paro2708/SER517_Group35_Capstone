{
  "nbformat": 4,
  "nbformat_minor": 0,
  "metadata": {
    "colab": {
      "provenance": [],
      "authorship_tag": "ABX9TyOO3YqsxgCF4yP7g+xxZ/qB",
      "include_colab_link": true
    },
    "kernelspec": {
      "name": "python3",
      "display_name": "Python 3"
    },
    "language_info": {
      "name": "python"
    }
  },
  "cells": [
    {
      "cell_type": "markdown",
      "metadata": {
        "id": "view-in-github",
        "colab_type": "text"
      },
      "source": [
        "<a href=\"https://colab.research.google.com/github/paro2708/SER517_Group35_Capstone/blob/GazeRefineNet/EyeNet.ipynb\" target=\"_parent\"><img src=\"https://colab.research.google.com/assets/colab-badge.svg\" alt=\"Open In Colab\"/></a>"
      ]
    },
    {
      "cell_type": "markdown",
      "source": [
        "To add"
      ],
      "metadata": {
        "id": "vD-T5AWykObL"
      }
    },
    {
      "cell_type": "markdown",
      "source": [
        "# EyeNet"
      ],
      "metadata": {
        "id": "b1Rol1BFNtqq"
      }
    },
    {
      "cell_type": "markdown",
      "source": [
        "EyeNet model to be used to tranfer learning to GazeRefineNet model"
      ],
      "metadata": {
        "id": "-WWkF0zbNwDj"
      }
    },
    {
      "cell_type": "code",
      "source": [
        "import torchvision.models as models\n",
        "import torch\n",
        "from torch import nn\n",
        "import numpy as np\n",
        "import math\n",
        "import pdb"
      ],
      "metadata": {
        "id": "YSrYPIwcNvdC"
      },
      "execution_count": 1,
      "outputs": []
    },
    {
      "cell_type": "code",
      "source": [
        "class EyeNet(nn.Module):\n",
        "  def __init__(self, use_rnn=True):\n",
        "    super(EyeNet, self).__init__()\n",
        "    self.resnet = models.resnet18(\n",
        "        #block = models.resnet.BasicBlock,\n",
        "        #layers = [2,2,2,2],\n",
        "        pretrained=False,        # Not using pre-trained weights\n",
        "        num_classes=128,        # (IMP)Number of output classes - needs to be defined based on number of eye features needed\n",
        "        norm_layer=nn.InstanceNorm2d,  # Normalization layer - layers need to be added\n",
        "    )\n",
        "    self.use_rnn = use_rnn\n",
        "\n",
        "    # Optional recurrent component - GRUCell\n",
        "    if use_rnn:\n",
        "            self.rnn = nn.GRUCell(input_size=128, hidden_size=128)\n",
        "            #self.fc_gaze = nn.Linear(128, 3)  # Output size for gaze direction\n",
        "\n",
        "    self.fc_gaze = nn.Sequential(\n",
        "                    nn.Linear(128, 128),\n",
        "                    nn.SELU(inplace=True),\n",
        "                    nn.Linear(128, 2, bias=False),\n",
        "                    nn.Tanh(),\n",
        "                )  # Output size for gaze direction\n",
        "    self.fc_pupil = nn.Sequential(\n",
        "                      nn.Linear(128, 128),\n",
        "                      nn.SELU(inplace=True),\n",
        "                      nn.Linear(128, 1),\n",
        "                      nn.ReLU(inplace=True),\n",
        "                  )  # Output size for pupil size\n",
        "\n",
        "  def forward(self, input_eye_image, rnn_output=None):\n",
        "\n",
        "    features = self.resnet(input_eye_image)\n",
        "\n",
        "    if self.use_rnn:\n",
        "      batch_size, feature_size = features.shape\n",
        "      hidden = torch.zeros(batch_size, 128, device=rnn_features.device)\n",
        "      previous_results = []\n",
        "      output=[]\n",
        "      rnn_features=features\n",
        "      #pdb.set_trace()\n",
        "      for i in range(batch_size):  # Loop through layers\n",
        "\n",
        "        if rnn_output is not None:\n",
        "            previous_results = output[i-1] if i>0 else None\n",
        "\n",
        "        GRUResult= self.rnn(rnn_features,hidden)\n",
        "\n",
        "        if isinstance(GRUResult, tuple):\n",
        "          rnn_features=GRUResult[0]\n",
        "          output[i] = GRUResult\n",
        "        else:\n",
        "          rnn_features = GRUResult\n",
        "          output.append(GRUResult)\n",
        "\n",
        "        # output.append(rnn_cell(rnn_features, previous_results))  # Forward pass through GRU cell\n",
        "        # rnn_features=output\n",
        "      features=rnn_features\n",
        "      #pdb.set_trace()\n",
        "      print(\"Features shape after GRUCell or ResNet:\", features.shape)\n",
        "\n",
        "    # gaze_direction = self.fc_gaze(features)\n",
        "    # pupil_size =self.fc_pupil(features)\n",
        "    # print(\"Gaze Direction shape before linear layer:\", gaze_direction.shape)\n",
        "    # print(\"Pupil Size shape before linear layer:\", pupil_size.shape)\n",
        "    return gaze_direction, pupil_size\n",
        "\n",
        "   # Define custom loss functions\n",
        "  def gaze_loss(g, g_hat):\n",
        "    loss = torch.mean(torch.acos(torch.sum(g * g_hat, dim=1) / (torch.norm(g, dim=1) * torch.norm(g_hat, dim=1))) * (180 / torch.pi))\n",
        "    return loss\n",
        "\n",
        "  def pupil_loss(p, p_hat):\n",
        "    loss = torch.mean(torch.abs(p - p_hat))\n",
        "    return loss\n",
        "\n",
        "#To test if the models can run image data for eye coordinates\n",
        "#eyenet = EyeNet(use_rnn=True)  # You can set use_rnn to True or False based on your requirement\n",
        "\n",
        "# Generate sample input data (e.g., random tensor with appropriate dimensions)\n",
        "# assuming batch size = 1, 3 channels (RGB), and image size 224x224\n",
        "# input_data = torch.randn(1, 3, 224, 224)\n",
        "\n",
        "# # Pass the input data through the EyeNet model to get predictions\n",
        "# gaze_direction, pupil_size = eyenet(input_data)\n",
        "\n",
        "# magnitude = torch.norm(gaze_direction, p=2)\n",
        "\n",
        "# # Print the predictions\n",
        "# print(\"Predicted Gaze Direction:\", gaze_direction)\n",
        "# print(\"Predicted Pupil Size:\", pupil_size)\n",
        "# print(\"Normalized Gaze Direction Magnitude(in radians):\", magnitude.item())\n",
        "\n",
        "\n"
      ],
      "metadata": {
        "id": "mdstE3XfPJkU"
      },
      "execution_count": 14,
      "outputs": []
    },
    {
      "cell_type": "code",
      "source": [
        "from torchvision import transforms\n",
        "from PIL import Image\n",
        "\n",
        "eyenet= EyeNet()\n",
        "\n",
        "# Load and preprocess the image\n",
        "image_path = '/WhatsApp Image 2024-03-11 at 13.11.44_0b8699f8.jpg'\n",
        "preprocess = transforms.Compose([\n",
        "    transforms.Resize(224),\n",
        "    transforms.CenterCrop(224),\n",
        "    transforms.ToTensor(),\n",
        "    transforms.Normalize(mean=[0.485, 0.456, 0.406], std=[0.229, 0.224, 0.225]),\n",
        "])\n",
        "\n",
        "img = Image.open(image_path)\n",
        "img_tensor = preprocess(img)  # Add batch dimension\n",
        "\n",
        "print(img_tensor.unsqueeze(0).shape)\n",
        "\n",
        "#%debug\n",
        "# Assuming the EyeNet model is already defined and initialized as eyenet\n",
        "gaze_direction, pupil_size = eyenet(img_tensor.unsqueeze(0))\n",
        "\n",
        "print(\"Predicted Gaze Direction:\", gaze_direction)\n",
        "print(\"Predicted Pupil Size:\", pupil_size)\n",
        "magnitude = torch.norm(gaze_direction, p=2)\n",
        "magnitude = magnitude *(180/np.pi)\n",
        "print(\"Normalized Gaze Direction Magnitude(in radians):\", magnitude.item())\n"
      ],
      "metadata": {
        "colab": {
          "base_uri": "https://localhost:8080/",
          "height": 463
        },
        "id": "P6rPKB7Lo4p3",
        "outputId": "958d9c8b-ad46-430c-fb45-8d8814b61df1"
      },
      "execution_count": 15,
      "outputs": [
        {
          "output_type": "stream",
          "name": "stderr",
          "text": [
            "/usr/local/lib/python3.10/dist-packages/torchvision/models/_utils.py:208: UserWarning: The parameter 'pretrained' is deprecated since 0.13 and may be removed in the future, please use 'weights' instead.\n",
            "  warnings.warn(\n",
            "/usr/local/lib/python3.10/dist-packages/torchvision/models/_utils.py:223: UserWarning: Arguments other than a weight enum or `None` for 'weights' are deprecated since 0.13 and may be removed in the future. The current behavior is equivalent to passing `weights=None`.\n",
            "  warnings.warn(msg)\n"
          ]
        },
        {
          "output_type": "stream",
          "name": "stdout",
          "text": [
            "torch.Size([1, 3, 224, 224])\n"
          ]
        },
        {
          "output_type": "error",
          "ename": "UnboundLocalError",
          "evalue": "local variable 'rnn_features' referenced before assignment",
          "traceback": [
            "\u001b[0;31m---------------------------------------------------------------------------\u001b[0m",
            "\u001b[0;31mUnboundLocalError\u001b[0m                         Traceback (most recent call last)",
            "\u001b[0;32m<ipython-input-15-468136e6ffa1>\u001b[0m in \u001b[0;36m<cell line: 22>\u001b[0;34m()\u001b[0m\n\u001b[1;32m     20\u001b[0m \u001b[0;31m#%debug\u001b[0m\u001b[0;34m\u001b[0m\u001b[0;34m\u001b[0m\u001b[0m\n\u001b[1;32m     21\u001b[0m \u001b[0;31m# Assuming the EyeNet model is already defined and initialized as eyenet\u001b[0m\u001b[0;34m\u001b[0m\u001b[0;34m\u001b[0m\u001b[0m\n\u001b[0;32m---> 22\u001b[0;31m \u001b[0mgaze_direction\u001b[0m\u001b[0;34m,\u001b[0m \u001b[0mpupil_size\u001b[0m \u001b[0;34m=\u001b[0m \u001b[0meyenet\u001b[0m\u001b[0;34m(\u001b[0m\u001b[0mimg_tensor\u001b[0m\u001b[0;34m.\u001b[0m\u001b[0munsqueeze\u001b[0m\u001b[0;34m(\u001b[0m\u001b[0;36m0\u001b[0m\u001b[0;34m)\u001b[0m\u001b[0;34m)\u001b[0m\u001b[0;34m\u001b[0m\u001b[0;34m\u001b[0m\u001b[0m\n\u001b[0m\u001b[1;32m     23\u001b[0m \u001b[0;34m\u001b[0m\u001b[0m\n\u001b[1;32m     24\u001b[0m \u001b[0mprint\u001b[0m\u001b[0;34m(\u001b[0m\u001b[0;34m\"Predicted Gaze Direction:\"\u001b[0m\u001b[0;34m,\u001b[0m \u001b[0mgaze_direction\u001b[0m\u001b[0;34m)\u001b[0m\u001b[0;34m\u001b[0m\u001b[0;34m\u001b[0m\u001b[0m\n",
            "\u001b[0;32m/usr/local/lib/python3.10/dist-packages/torch/nn/modules/module.py\u001b[0m in \u001b[0;36m_wrapped_call_impl\u001b[0;34m(self, *args, **kwargs)\u001b[0m\n\u001b[1;32m   1516\u001b[0m             \u001b[0;32mreturn\u001b[0m \u001b[0mself\u001b[0m\u001b[0;34m.\u001b[0m\u001b[0m_compiled_call_impl\u001b[0m\u001b[0;34m(\u001b[0m\u001b[0;34m*\u001b[0m\u001b[0margs\u001b[0m\u001b[0;34m,\u001b[0m \u001b[0;34m**\u001b[0m\u001b[0mkwargs\u001b[0m\u001b[0;34m)\u001b[0m  \u001b[0;31m# type: ignore[misc]\u001b[0m\u001b[0;34m\u001b[0m\u001b[0;34m\u001b[0m\u001b[0m\n\u001b[1;32m   1517\u001b[0m         \u001b[0;32melse\u001b[0m\u001b[0;34m:\u001b[0m\u001b[0;34m\u001b[0m\u001b[0;34m\u001b[0m\u001b[0m\n\u001b[0;32m-> 1518\u001b[0;31m             \u001b[0;32mreturn\u001b[0m \u001b[0mself\u001b[0m\u001b[0;34m.\u001b[0m\u001b[0m_call_impl\u001b[0m\u001b[0;34m(\u001b[0m\u001b[0;34m*\u001b[0m\u001b[0margs\u001b[0m\u001b[0;34m,\u001b[0m \u001b[0;34m**\u001b[0m\u001b[0mkwargs\u001b[0m\u001b[0;34m)\u001b[0m\u001b[0;34m\u001b[0m\u001b[0;34m\u001b[0m\u001b[0m\n\u001b[0m\u001b[1;32m   1519\u001b[0m \u001b[0;34m\u001b[0m\u001b[0m\n\u001b[1;32m   1520\u001b[0m     \u001b[0;32mdef\u001b[0m \u001b[0m_call_impl\u001b[0m\u001b[0;34m(\u001b[0m\u001b[0mself\u001b[0m\u001b[0;34m,\u001b[0m \u001b[0;34m*\u001b[0m\u001b[0margs\u001b[0m\u001b[0;34m,\u001b[0m \u001b[0;34m**\u001b[0m\u001b[0mkwargs\u001b[0m\u001b[0;34m)\u001b[0m\u001b[0;34m:\u001b[0m\u001b[0;34m\u001b[0m\u001b[0;34m\u001b[0m\u001b[0m\n",
            "\u001b[0;32m/usr/local/lib/python3.10/dist-packages/torch/nn/modules/module.py\u001b[0m in \u001b[0;36m_call_impl\u001b[0;34m(self, *args, **kwargs)\u001b[0m\n\u001b[1;32m   1525\u001b[0m                 \u001b[0;32mor\u001b[0m \u001b[0m_global_backward_pre_hooks\u001b[0m \u001b[0;32mor\u001b[0m \u001b[0m_global_backward_hooks\u001b[0m\u001b[0;34m\u001b[0m\u001b[0;34m\u001b[0m\u001b[0m\n\u001b[1;32m   1526\u001b[0m                 or _global_forward_hooks or _global_forward_pre_hooks):\n\u001b[0;32m-> 1527\u001b[0;31m             \u001b[0;32mreturn\u001b[0m \u001b[0mforward_call\u001b[0m\u001b[0;34m(\u001b[0m\u001b[0;34m*\u001b[0m\u001b[0margs\u001b[0m\u001b[0;34m,\u001b[0m \u001b[0;34m**\u001b[0m\u001b[0mkwargs\u001b[0m\u001b[0;34m)\u001b[0m\u001b[0;34m\u001b[0m\u001b[0;34m\u001b[0m\u001b[0m\n\u001b[0m\u001b[1;32m   1528\u001b[0m \u001b[0;34m\u001b[0m\u001b[0m\n\u001b[1;32m   1529\u001b[0m         \u001b[0;32mtry\u001b[0m\u001b[0;34m:\u001b[0m\u001b[0;34m\u001b[0m\u001b[0;34m\u001b[0m\u001b[0m\n",
            "\u001b[0;32m<ipython-input-14-8bea30ba1cd9>\u001b[0m in \u001b[0;36mforward\u001b[0;34m(self, input_eye_image, rnn_output)\u001b[0m\n\u001b[1;32m     35\u001b[0m     \u001b[0;32mif\u001b[0m \u001b[0mself\u001b[0m\u001b[0;34m.\u001b[0m\u001b[0muse_rnn\u001b[0m\u001b[0;34m:\u001b[0m\u001b[0;34m\u001b[0m\u001b[0;34m\u001b[0m\u001b[0m\n\u001b[1;32m     36\u001b[0m       \u001b[0mbatch_size\u001b[0m\u001b[0;34m,\u001b[0m \u001b[0mfeature_size\u001b[0m \u001b[0;34m=\u001b[0m \u001b[0mfeatures\u001b[0m\u001b[0;34m.\u001b[0m\u001b[0mshape\u001b[0m\u001b[0;34m\u001b[0m\u001b[0;34m\u001b[0m\u001b[0m\n\u001b[0;32m---> 37\u001b[0;31m       \u001b[0mhidden\u001b[0m \u001b[0;34m=\u001b[0m \u001b[0mtorch\u001b[0m\u001b[0;34m.\u001b[0m\u001b[0mzeros\u001b[0m\u001b[0;34m(\u001b[0m\u001b[0mbatch_size\u001b[0m\u001b[0;34m,\u001b[0m \u001b[0;36m128\u001b[0m\u001b[0;34m,\u001b[0m \u001b[0mdevice\u001b[0m\u001b[0;34m=\u001b[0m\u001b[0mrnn_features\u001b[0m\u001b[0;34m.\u001b[0m\u001b[0mdevice\u001b[0m\u001b[0;34m)\u001b[0m\u001b[0;34m\u001b[0m\u001b[0;34m\u001b[0m\u001b[0m\n\u001b[0m\u001b[1;32m     38\u001b[0m       \u001b[0mprevious_results\u001b[0m \u001b[0;34m=\u001b[0m \u001b[0;34m[\u001b[0m\u001b[0;34m]\u001b[0m\u001b[0;34m\u001b[0m\u001b[0;34m\u001b[0m\u001b[0m\n\u001b[1;32m     39\u001b[0m       \u001b[0moutput\u001b[0m\u001b[0;34m=\u001b[0m\u001b[0;34m[\u001b[0m\u001b[0;34m]\u001b[0m\u001b[0;34m\u001b[0m\u001b[0;34m\u001b[0m\u001b[0m\n",
            "\u001b[0;31mUnboundLocalError\u001b[0m: local variable 'rnn_features' referenced before assignment"
          ]
        }
      ]
    },
    {
      "cell_type": "markdown",
      "source": [
        "# Training Script"
      ],
      "metadata": {
        "id": "sAxaK0SNSoyV"
      }
    },
    {
      "cell_type": "code",
      "source": [],
      "metadata": {
        "id": "9iS9CVM7TQYH"
      },
      "execution_count": null,
      "outputs": []
    }
  ]
}