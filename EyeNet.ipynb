{
  "nbformat": 4,
  "nbformat_minor": 0,
  "metadata": {
    "colab": {
      "provenance": [],
      "toc_visible": true,
      "authorship_tag": "ABX9TyNQ9uwLPKkZUkOC/zujwLWe",
      "include_colab_link": true
    },
    "kernelspec": {
      "name": "python3",
      "display_name": "Python 3"
    },
    "language_info": {
      "name": "python"
    }
  },
  "cells": [
    {
      "cell_type": "markdown",
      "metadata": {
        "id": "view-in-github",
        "colab_type": "text"
      },
      "source": [
        "<a href=\"https://colab.research.google.com/github/paro2708/SER517_Group35_Capstone/blob/GazeRefineNet/EyeNet.ipynb\" target=\"_parent\"><img src=\"https://colab.research.google.com/assets/colab-badge.svg\" alt=\"Open In Colab\"/></a>"
      ]
    },
    {
      "cell_type": "markdown",
      "source": [
        "To add"
      ],
      "metadata": {
        "id": "vD-T5AWykObL"
      }
    },
    {
      "cell_type": "markdown",
      "source": [
        "# EyeNet"
      ],
      "metadata": {
        "id": "b1Rol1BFNtqq"
      }
    },
    {
      "cell_type": "markdown",
      "source": [
        "EyeNet model to be used to tranfer learning to GazeRefineNet model"
      ],
      "metadata": {
        "id": "-WWkF0zbNwDj"
      }
    },
    {
      "cell_type": "code",
      "source": [
        "import torchvision.models as models\n",
        "import torch\n",
        "from torch import nn\n",
        "import numpy as np\n",
        "import math"
      ],
      "metadata": {
        "id": "YSrYPIwcNvdC"
      },
      "execution_count": null,
      "outputs": []
    },
    {
      "cell_type": "code",
      "source": [
        "class EyeNet(nn.Module):\n",
        "  def __init__(self, use_rnn=False):\n",
        "    super(EyeNet, self).__init__()\n",
        "    self.resnet = models.resnet18(\n",
        "        pretrained=False,        # Not using pre-trained weights\n",
        "        num_classes=512,        # (IMP)Number of output classes - needs to be defined based on number of eye features needed\n",
        "        norm_layer=nn.InstanceNorm2d,  # Normalization layer - layers need to be added\n",
        "    )\n",
        "    self.use_rnn = use_rnn\n",
        "\n",
        "    # Optional recurrent component\n",
        "    if use_rnn:\n",
        "            self.rnn = nn.LSTM(input_size=512, hidden_size=512, num_layers=2, batch_first=True)\n",
        "            self.fc_gaze = nn.Linear(512, 3)  # Output size for gaze direction\n",
        "    else:\n",
        "      self.fc_gaze = nn.Linear(512, 3)  # Output size for gaze direction\n",
        "    self.fc_pupil = nn.Linear(512, 1)  # Output size for pupil size\n",
        "\n",
        "  def forward(self, x):\n",
        "    features = self.resnet(x)\n",
        "    if self.use_rnn:\n",
        "        features, _ = self.rnn(features.unsqueeze(0))  # Add an extra dimension for the sequence length\n",
        "        features = features.squeeze(0)  # Remove the extra dimension added for the sequence length\n",
        "    gaze_direction = self.fc_gaze(features)\n",
        "    pupil_size = self.fc_pupil(features)\n",
        "    return gaze_direction, pupil_size\n",
        "\n",
        "   # Define custom loss functions\n",
        "  def gaze_loss(g, g_hat):\n",
        "    loss = torch.mean(torch.acos(torch.sum(g * g_hat, dim=1) / (torch.norm(g, dim=1) * torch.norm(g_hat, dim=1))) * (180 / torch.pi))\n",
        "    return loss\n",
        "\n",
        "  def pupil_loss(p, p_hat):\n",
        "    loss = torch.mean(torch.abs(p - p_hat))\n",
        "    return loss\n",
        "\n",
        "#To test if the models can run image data for eye coordinates\n",
        "eyenet = EyeNet(use_rnn=True)  # You can set use_rnn to True or False based on your requirement\n",
        "\n",
        "# Generate sample input data (e.g., random tensor with appropriate dimensions)\n",
        "# assuming batch size = 1, 3 channels (RGB), and image size 224x224\n",
        "input_data = torch.randn(1, 3, 224, 224)\n",
        "\n",
        "# Pass the input data through the EyeNet model to get predictions\n",
        "gaze_direction, pupil_size = eyenet(input_data)\n",
        "\n",
        "magnitude = torch.norm(gaze_direction, p=2)\n",
        "\n",
        "# Print the predictions\n",
        "print(\"Predicted Gaze Direction:\", gaze_direction)\n",
        "print(\"Predicted Pupil Size:\", pupil_size)\n",
        "print(\"Normalized Gaze Direction Magnitude(in radians):\", magnitude.item())\n",
        "\n",
        "\n"
      ],
      "metadata": {
        "colab": {
          "base_uri": "https://localhost:8080/"
        },
        "id": "mdstE3XfPJkU",
        "outputId": "1ff5154f-8181-46ca-f437-88e358e34fff"
      },
      "execution_count": null,
      "outputs": [
        {
          "output_type": "stream",
          "name": "stdout",
          "text": [
            "Predicted Gaze Direction: tensor([[-0.0259,  0.0109,  0.0062]], grad_fn=<AddmmBackward0>)\n",
            "Predicted Pupil Size: tensor([[0.0443]], grad_fn=<AddmmBackward0>)\n",
            "Normalized Gaze Direction Magnitude(in radians): 0.028716016560792923\n"
          ]
        }
      ]
    }
  ]
}