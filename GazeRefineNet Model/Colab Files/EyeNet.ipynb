{
  "nbformat": 4,
  "nbformat_minor": 0,
  "metadata": {
    "colab": {
      "provenance": [],
      "toc_visible": true,
      "authorship_tag": "ABX9TyO5OIZsuXKNXUxHSopnR7wX",
      "include_colab_link": true
    },
    "kernelspec": {
      "name": "python3",
      "display_name": "Python 3"
    },
    "language_info": {
      "name": "python"
    }
  },
  "cells": [
    {
      "cell_type": "markdown",
      "metadata": {
        "id": "view-in-github",
        "colab_type": "text"
      },
      "source": [
        "<a href=\"https://colab.research.google.com/github/paro2708/SER517_Group35_Capstone/blob/GazeRefineNet/EyeNet.ipynb\" target=\"_parent\"><img src=\"https://colab.research.google.com/assets/colab-badge.svg\" alt=\"Open In Colab\"/></a>"
      ]
    },
    {
      "cell_type": "markdown",
      "source": [
        "To add"
      ],
      "metadata": {
        "id": "vD-T5AWykObL"
      }
    },
    {
      "cell_type": "markdown",
      "source": [
        "# EyeNet"
      ],
      "metadata": {
        "id": "b1Rol1BFNtqq"
      }
    },
    {
      "cell_type": "markdown",
      "source": [
        "EyeNet model to be used to tranfer learning to GazeRefineNet model"
      ],
      "metadata": {
        "id": "-WWkF0zbNwDj"
      }
    },
    {
      "cell_type": "code",
      "source": [
        "import torchvision.models as models\n",
        "import torch\n",
        "from torch import nn\n",
        "import numpy as np\n",
        "import math\n",
        "import pdb"
      ],
      "metadata": {
        "id": "YSrYPIwcNvdC"
      },
      "execution_count": null,
      "outputs": []
    },
    {
      "cell_type": "code",
      "source": [
        "class EyeNet(nn.Module):\n",
        "  def __init__(self, use_rnn=True):\n",
        "    super(EyeNet, self).__init__()\n",
        "    self.resnet = models.resnet18(\n",
        "        #block = models.resnet.BasicBlock,\n",
        "        #layers = [2,2,2,2],\n",
        "        pretrained=False,        # Not using pre-trained weights\n",
        "        num_classes=128,        # (IMP)Number of output classes - needs to be defined based on number of eye features needed\n",
        "        norm_layer=nn.InstanceNorm2d,  # Normalization layer - layers need to be added\n",
        "    )\n",
        "    self.use_rnn = use_rnn\n",
        "\n",
        "    # Optional recurrent component - GRUCell\n",
        "    if use_rnn:\n",
        "            self.rnn = nn.GRUCell(input_size=128, hidden_size=128)\n",
        "            #self.fc_gaze = nn.Linear(128, 3)  # Output size for gaze direction\n",
        "\n",
        "    self.fc_gaze = nn.Sequential(\n",
        "                    nn.Linear(128, 128),\n",
        "                    nn.SELU(inplace=True),\n",
        "                    nn.Linear(128, 2, bias=False),\n",
        "                    nn.Tanh(),\n",
        "                )  # Output size for gaze direction\n",
        "    self.fc_pupil = nn.Sequential(\n",
        "                      nn.Linear(128, 128),\n",
        "                      nn.SELU(inplace=True),\n",
        "                      nn.Linear(128, 1),\n",
        "                      nn.ReLU(inplace=True),\n",
        "                  )  # Output size for pupil size\n",
        "\n",
        "  def forward(self, input_eye_image, side, rnn_output=None):\n",
        "\n",
        "    features = self.resnet(input_eye_image)\n",
        "\n",
        "    if self.use_rnn:\n",
        "      rnn_features=features\n",
        "      batch_size, feature_size = features.shape\n",
        "      hidden = torch.zeros(batch_size, 128, device=rnn_features.device)\n",
        "      previous_results = []\n",
        "      output=[]\n",
        "\n",
        "      #pdb.set_trace()\n",
        "      for i in range(batch_size):  # Loop through layers\n",
        "\n",
        "        if rnn_output is not None:\n",
        "            previous_results = output[i-1] if i>0 else None\n",
        "\n",
        "        GRUResult= self.rnn(rnn_features,hidden)\n",
        "\n",
        "        if isinstance(GRUResult, tuple):\n",
        "          rnn_features=GRUResult[0]\n",
        "          output[i] = GRUResult\n",
        "        else:\n",
        "          rnn_features = GRUResult\n",
        "          output.append(GRUResult)\n",
        "\n",
        "        # output.append(rnn_cell(rnn_features, previous_results))  # Forward pass through GRU cell\n",
        "        # rnn_features=output\n",
        "      features=rnn_features\n",
        "      #pdb.set_trace()\n",
        "      print(\"Features shape after GRUCell or ResNet:\", features.shape)\n",
        "\n",
        "    gaze_direction = (0.5 * np.pi) * self.fc_gaze(features)\n",
        "    pupil_size =self.fc_pupil(features)\n",
        "    print(\"Gaze Direction shape before linear layer:\", gaze_direction.shape)\n",
        "    print(\"Pupil Size shape before linear layer:\", pupil_size.shape)\n",
        "    return gaze_direction, pupil_size\n",
        "\n",
        "   # Define custom loss functions\n",
        "  def gaze_loss(g, g_hat):\n",
        "    loss = torch.mean(torch.acos(torch.sum(g * g_hat, dim=1) / (torch.norm(g, dim=1) * torch.norm(g_hat, dim=1))) * (180 / torch.pi))\n",
        "    return loss\n",
        "\n",
        "  def pupil_loss(p, p_hat):\n",
        "    loss = torch.mean(torch.abs(p - p_hat))\n",
        "    return loss\n",
        "\n",
        "#To test if the models can run image data for eye coordinates\n",
        "#eyenet = EyeNet(use_rnn=True)  # You can set use_rnn to True or False based on your requirement\n",
        "\n",
        "# Generate sample input data (e.g., random tensor with appropriate dimensions)\n",
        "# assuming batch size = 1, 3 channels (RGB), and image size 224x224\n",
        "# input_data = torch.randn(1, 3, 224, 224)\n",
        "\n",
        "# # Pass the input data through the EyeNet model to get predictions\n",
        "# gaze_direction, pupil_size = eyenet(input_data)\n",
        "\n",
        "# magnitude = torch.norm(gaze_direction, p=2)\n",
        "\n",
        "# # Print the predictions\n",
        "# print(\"Predicted Gaze Direction:\", gaze_direction)\n",
        "# print(\"Predicted Pupil Size:\", pupil_size)\n",
        "# print(\"Normalized Gaze Direction Magnitude(in radians):\", magnitude.item())\n",
        "\n",
        "\n"
      ],
      "metadata": {
        "id": "mdstE3XfPJkU"
      },
      "execution_count": null,
      "outputs": []
    },
    {
      "cell_type": "code",
      "source": [
        "from torchvision import transforms\n",
        "from PIL import Image\n",
        "\n",
        "eyenet= EyeNet()\n",
        "\n",
        "# Load and preprocess the image\n",
        "image_path = '/content/sample_data/00000.jpg'\n",
        "preprocess = transforms.Compose([\n",
        "    transforms.Resize(224),\n",
        "    transforms.CenterCrop(224),\n",
        "    transforms.ToTensor(),\n",
        "    transforms.Normalize(mean=[0.485, 0.456, 0.406], std=[0.229, 0.224, 0.225]),\n",
        "])\n",
        "\n",
        "img = Image.open(image_path)\n",
        "img_tensor = preprocess(img)  # Add batch dimension\n",
        "\n",
        "print(img_tensor.unsqueeze(0).shape)\n",
        "\n",
        "#%debug\n",
        "# Assuming the EyeNet model is already defined and initialized as eyenet\n",
        "gaze_direction, pupil_size = eyenet(img_tensor.unsqueeze(0))\n",
        "\n",
        "print(\"Predicted Gaze Direction:\", gaze_direction)\n",
        "print(\"Predicted Pupil Size:\", pupil_size)\n",
        "magnitude = torch.norm(gaze_direction, p=2)\n",
        "magnitude = magnitude *(180/np.pi)\n",
        "print(\"Normalized Gaze Direction Magnitude(in radians):\", magnitude.item())\n"
      ],
      "metadata": {
        "colab": {
          "base_uri": "https://localhost:8080/"
        },
        "id": "P6rPKB7Lo4p3",
        "outputId": "2f2dd3a4-3fca-4cc7-a7cf-beb9f0a75cb1"
      },
      "execution_count": null,
      "outputs": [
        {
          "output_type": "stream",
          "name": "stdout",
          "text": [
            "torch.Size([1, 3, 224, 224])\n",
            "Features shape after GRUCell or ResNet: torch.Size([1, 128])\n",
            "Gaze Direction shape before linear layer: torch.Size([1, 2])\n",
            "Pupil Size shape before linear layer: torch.Size([1, 1])\n",
            "Predicted Gaze Direction: tensor([[0.0680, 0.0926]], grad_fn=<TanhBackward0>)\n",
            "Predicted Pupil Size: tensor([[0.0178]], grad_fn=<ReluBackward0>)\n",
            "Normalized Gaze Direction Magnitude(in radians): 6.5809712409973145\n"
          ]
        }
      ]
    },
    {
      "cell_type": "markdown",
      "source": [
        "# Common functions and calculations between EyeNet and GazeRefineNet"
      ],
      "metadata": {
        "id": "k_E7zJbiaC48"
      }
    },
    {
      "cell_type": "markdown",
      "source": [
        "To intersect the gaze origin and gaze direction with screen plane with z = 0"
      ],
      "metadata": {
        "id": "jl6ZVjHaaXEw"
      }
    },
    {
      "cell_type": "code",
      "source": [
        "def calculate_intersection(origin, direction):\n",
        "    global plane_normal, plane_point\n",
        "    if plane_normal is None:\n",
        "        plane_normal = torch.tensor([0, 0, 1], dtype=torch.float32, device=device).unsqueeze(0).unsqueeze(2)\n",
        "        plane_point = torch.tensor([1, 0, 0], dtype=torch.float32, device=device).unsqueeze(0).unsqueeze(2)\n",
        "\n",
        "    normal_vector = plane_normal\n",
        "    point_on_plane = plane_point\n",
        "    direction = direction.view(-1, 3, 1)\n",
        "    origin = origin.view(-1, 3, 1)\n",
        "\n",
        "    numerator = torch.bmm((point_on_plane - origin).transpose(1, 2), normal_vector).squeeze(2)\n",
        "    denominator = torch.bmm(direction.transpose(1, 2), normal_vector).squeeze(2) + 1e-7\n",
        "    t = (numerator / denominator).unsqueeze(2)\n",
        "\n",
        "    intersection_point = origin + t * direction\n",
        "    intersection_point_2d = intersection_point[:, :2, 0]  # Keep only x and y coordinates\n",
        "\n",
        "    return intersection_point_2d.view(-1, 2)  # Reshape to ensure it's always a 2\n",
        "\n",
        "\n",
        "    # Sample gaze origin point (x, y, z)\n",
        "origin = torch.tensor([0.5, 0.5, 0.0], dtype=torch.float32).view(1, 3, 1)\n",
        "\n",
        "# Sample gaze direction vector (dx, dy, dz)\n",
        "direction = torch.tensor([0.0, 0.0, -1.0], dtype=torch.float32).view(1, 3, 1)\n",
        "\n",
        "# Assuming the 'device' variable is defined, e.g.,\n",
        "device = torch.device(\"cuda:0\" if torch.cuda.is_available() else \"cpu\")\n",
        "\n",
        "# Initialize global variables if not already done\n",
        "plane_normal = None\n",
        "plane_point = None\n",
        "\n",
        "# Call the function\n",
        "intersection = calculate_intersection(origin, direction)\n",
        "\n",
        "# Output the result\n",
        "print(\"Intersection point:\", intersection)\n",
        "\n"
      ],
      "metadata": {
        "colab": {
          "base_uri": "https://localhost:8080/"
        },
        "id": "_-uqQ_1HbFRr",
        "outputId": "f345e757-1575-4313-cb52-4e0e794c7530"
      },
      "execution_count": null,
      "outputs": [
        {
          "output_type": "stream",
          "name": "stdout",
          "text": [
            "Intersection point: tensor([[0.5000, 0.5000]])\n"
          ]
        }
      ]
    },
    {
      "cell_type": "markdown",
      "source": [
        "# Common Models"
      ],
      "metadata": {
        "id": "PVErUx8dvFXd"
      }
    },
    {
      "cell_type": "code",
      "source": [
        "import torch\n",
        "from torch import nn\n",
        "\n",
        "class ConvRNNCell(nn.Module):\n",
        "    \"\"\"A convolutional RNN cell that integrates spatial information.\"\"\"\n",
        "\n",
        "    def __init__(self, input_channels, output_channels):\n",
        "        \"\"\"Initializes the convolutional RNN cell.\n",
        "\n",
        "        Args:\n",
        "            input_channels (int): Number of channels in the input.\n",
        "            output_channels (int): Number of channels in the output hidden state.\n",
        "        \"\"\"\n",
        "        super(ConvRNNCell, self).__init__()\n",
        "        self.output_channels = output_channels\n",
        "\n",
        "        # Define convolution layer to process concatenated input and hidden state\n",
        "        self.conv = nn.Conv2d(in_channels=input_channels + output_channels,\n",
        "                              out_channels=output_channels, kernel_size=3, padding=1)\n",
        "\n",
        "    def forward(self, input_tensor, prev_state=None):\n",
        "        \"\"\"Computes the cell's forward pass.\n",
        "\n",
        "        Args:\n",
        "            input_tensor (torch.Tensor): Input tensor.\n",
        "            prev_state (torch.Tensor, optional): Previous hidden state.\n",
        "\n",
        "        Returns:\n",
        "            torch.Tensor: Updated hidden state.\n",
        "        \"\"\"\n",
        "        if prev_state is None:\n",
        "            # Initialize previous state if not provided\n",
        "            prev_state = torch.zeros([input_tensor.size(0), self.output_channels] +\n",
        "                                     list(input_tensor.shape[2:])).to(input_tensor.device)\n",
        "\n",
        "        combined = torch.cat([input_tensor, prev_state], dim=1)  # Concatenate along the channel dimension\n",
        "        hidden_state = torch.tanh(self.conv(combined))\n",
        "        return hidden_state\n"
      ],
      "metadata": {
        "id": "to-xbq2xvNGw"
      },
      "execution_count": null,
      "outputs": []
    },
    {
      "cell_type": "code",
      "source": [
        "class CLSTMCell(nn.Module):\n",
        "    def __init__(self, input_size, hidden_size):\n",
        "        super(CLSTMCell, self).__init__()\n",
        "\n",
        "        self.input_size = input_size\n",
        "        self.hidden_size = hidden_size\n",
        "\n",
        "        self.gates = nn.Conv2d(self.input_size + self.hidden_size, 4 * self.hidden_size,\n",
        "                               kernel_size=3, padding=1)"
      ],
      "metadata": {
        "id": "ATIOCfCOvtU-"
      },
      "execution_count": null,
      "outputs": []
    },
    {
      "cell_type": "markdown",
      "source": [
        "# HeatMap"
      ],
      "metadata": {
        "id": "TwrShKrls7of"
      }
    },
    {
      "cell_type": "code",
      "source": [
        "import numpy as np\n",
        "import scipy.ndimage\n",
        "import matplotlib.pyplot as plt\n",
        "\n",
        "def generate_heatmap(image_size, pos, sigma=25):\n",
        "    \"\"\"\n",
        "    Generate a Gaussian heatmap centered at pos (x, y).\n",
        "\n",
        "    :param image_size: Tuple (width, height) of the output image.\n",
        "    :param pos: Tuple (x, y) position of the gaze point on the screen.\n",
        "    :param sigma: Standard deviation of the Gaussian distribution.\n",
        "    :return: Generated heatmap as a 2D numpy array.\n",
        "    \"\"\"\n",
        "    # Create an empty image\n",
        "    heatmap = np.zeros((image_size[1], image_size[0]), dtype=np.float32)\n",
        "\n",
        "    # Ensure the position is integer\n",
        "    pos = [int(p) for p in pos]\n",
        "\n",
        "    # Set the pixel at the gaze point to 1\n",
        "    heatmap[pos[1], pos[0]] = 1\n",
        "\n",
        "    # Apply Gaussian filter to create the heatmap\n",
        "    heatmap = scipy.ndimage.gaussian_filter(heatmap, sigma, mode='constant')\n",
        "\n",
        "    # Normalize heatmap\n",
        "    heatmap /= np.max(heatmap)\n",
        "\n",
        "    return heatmap\n",
        "\n",
        "# Example usage\n",
        "image_size = (1920, 1080)  # Screen resolution\n",
        "pos = (960, 540)  # Example PoG position\n",
        "sigma = 25  # Standard deviation\n",
        "\n",
        "heatmap1 = generate_heatmap(image_size, pos, sigma)\n",
        "\n",
        "\n",
        "\n",
        "plt.imshow(heatmap1, cmap='hot', interpolation='nearest')\n",
        "plt.colorbar()\n",
        "plt.show()\n"
      ],
      "metadata": {
        "id": "9iS9CVM7TQYH",
        "colab": {
          "base_uri": "https://localhost:8080/",
          "height": 420
        },
        "outputId": "2b81d228-8331-4352-9fab-7b7efdcada09"
      },
      "execution_count": null,
      "outputs": [
        {
          "output_type": "display_data",
          "data": {
            "text/plain": [
              "<Figure size 640x480 with 2 Axes>"
            ],
            "image/png": "[encoded data removed]"
          },
          "metadata": {}
        }
      ]
    },
    {
      "cell_type": "markdown",
      "source": [
        "# Heatmap 2"
      ],
      "metadata": {
        "id": "wncO_fxkwGM7"
      }
    },
    {
      "cell_type": "code",
      "source": [
        "import logging\n",
        "\n",
        "import numpy as np\n",
        "\n",
        "#from core import DefaultConfig\n",
        "import matplotlib.pyplot as plt\n",
        "\n",
        "# config = DefaultConfig()\n",
        "# logger = logging.getLogger(__name__)\n",
        "\n",
        "\n",
        "def gaussian_2d(shape, centre, sigma=1.0):\n",
        "    \"\"\"Generate heatmap with single 2D gaussian.\"\"\"\n",
        "    xs = np.arange(0.5, shape[1] + 0.5, step=1.0, dtype=np.float32)\n",
        "    ys = np.expand_dims(np.arange(0.5, shape[0] + 0.5, step=1.0, dtype=np.float32), -1)\n",
        "    alpha = -0.5 / (sigma**2)\n",
        "    heatmap = np.exp(alpha * ((xs - centre[0])**2 + (ys - centre[1])**2))\n",
        "    return heatmap\n",
        "\n",
        "\n",
        "def onehot_from_values(v, v_min, v_max, n_bins, clipped=False):\n",
        "    if clipped:\n",
        "        v = np.clip(v, a_min=v_min+1e-6, a_max=v_max-1e-6)\n",
        "    v = ((v - (v_min+1e-6)) / (v_max - v_min))  # values in [0, 1]\n",
        "    hmap = gaussian_2d([n_bins, n_bins], v * n_bins, sigma=25)\n",
        "    hmap = hmap.flatten()\n",
        "    hmap *= 1.0 / np.sum(hmap)\n",
        "    return hmap\n",
        "\n",
        "shape = (1920, 1080)  # Size of the heatmap\n",
        "centre = (960, 540)  # Center of the Gaussian blob\n",
        "sigma = 25  # Spread of the Gaussian blob\n",
        "\n",
        "# Generate heatmap\n",
        "heatmap2 = gaussian_2d(shape, centre, sigma)\n",
        "\n",
        "# Display the heatmap\n",
        "plt.imshow(heatmap2, cmap='hot', interpolation='nearest')\n",
        "plt.colorbar()\n",
        "plt.show()"
      ],
      "metadata": {
        "colab": {
          "base_uri": "https://localhost:8080/",
          "height": 435
        },
        "id": "DQ1v5ZBbwLqU",
        "outputId": "e8dfa2a1-81cd-4e8f-8583-87d3c10d50e6"
      },
      "execution_count": null,
      "outputs": [
        {
          "output_type": "display_data",
          "data": {
            "text/plain": [
              "<Figure size 640x480 with 2 Axes>"
            ],
            "image/png": "[encoded data removed]"
          },
          "metadata": {}
        }
      ]
    },
    {
      "cell_type": "markdown",
      "source": [
        "Difference between the two heatmaps generated"
      ],
      "metadata": {
        "id": "C5qOlXENye4H"
      }
    },
    {
      "cell_type": "code",
      "source": [
        "from scipy.stats import pearsonr\n",
        "from sklearn.metrics import mean_squared_error\n",
        "from skimage.metrics import structural_similarity as ssim\n",
        "import numpy as np\n",
        "\n",
        "# Assume heatmap1 and heatmap2 are your two heatmaps to compare\n",
        "# They must be the same size\n",
        "\n",
        "# Correlation Coefficient\n",
        "def calculate_correlation(heatmap1, heatmap2):\n",
        "    corr, _ = pearsonr(heatmap1.flatten(), heatmap2.flatten())\n",
        "    return corr\n",
        "\n",
        "# Mean Squared Error\n",
        "def calculate_mse(heatmap1, heatmap2):\n",
        "    return mean_squared_error(heatmap1.flatten(), heatmap2.flatten())\n",
        "\n",
        "# Structural Similarity Index\n",
        "def calculate_ssim(heatmap1, heatmap2):\n",
        "    heatmap1 = heatmap1.astype(np.float32)\n",
        "    heatmap2 = heatmap2.astype(np.float32)\n",
        "    if heatmap1.shape != heatmap2.shape:\n",
        "      heatmap2 = heatmap2.T\n",
        "    return ssim(heatmap1, heatmap2)\n",
        "\n",
        "# Example usage\n",
        "# heatmap1 = np.random.rand(1920, 1080)\n",
        "# heatmap2 = np.random.rand(1920, 1080)\n",
        "\n",
        "print(\"Correlation Coefficient:\", calculate_correlation(heatmap1, heatmap2))\n",
        "print(\"Heatmap 1 shape\", heatmap1.shape)\n",
        "print(\"Heatmap 2 shape\", heatmap2.shape)\n",
        "print(\"MSE:\", calculate_mse(heatmap1, heatmap2))\n",
        "print(\"SSIM:\", calculate_ssim(heatmap1, heatmap2))"
      ],
      "metadata": {
        "colab": {
          "base_uri": "https://localhost:8080/"
        },
        "id": "GXVsmsK9yC54",
        "outputId": "5dcf431d-162f-407a-f596-236d94fdaa00"
      },
      "execution_count": null,
      "outputs": [
        {
          "output_type": "stream",
          "name": "stdout",
          "text": [
            "Correlation Coefficient: -0.0038015607662193938\n",
            "Heatmap 1 shape (1080, 1920)\n",
            "Heatmap 2 shape (1920, 1080)\n",
            "MSE: 0.0018938034\n",
            "SSIM: 0.9849404238674698\n"
          ]
        }
      ]
    }
  ]
}