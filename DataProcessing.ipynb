{
  "nbformat": 4,
  "nbformat_minor": 0,
  "metadata": {
    "colab": {
      "provenance": [],
      "include_colab_link": true
    },
    "kernelspec": {
      "name": "python3",
      "display_name": "Python 3"
    },
    "language_info": {
      "name": "python"
    }
  },
  "cells": [
    {
      "cell_type": "markdown",
      "metadata": {
        "id": "view-in-github",
        "colab_type": "text"
      },
      "source": [
        "<a href=\"https://colab.research.google.com/github/paro2708/SER517_Group35_Capstone/blob/data-preprocessing/DataProcessing.ipynb\" target=\"_parent\"><img src=\"https://colab.research.google.com/assets/colab-badge.svg\" alt=\"Open In Colab\"/></a>"
      ]
    },
    {
      "cell_type": "code",
      "source": [
        "import os\n",
        "import json\n",
        "import shutil\n",
        "import glob\n",
        "\n",
        "# Base directory path where your dataset directories are located\n",
        "base_directory_path = '/home/ec2-user'\n",
        "\n",
        "# Use glob to find all directories that match the nested structure pattern\n",
        "directories_pattern = os.path.join(base_directory_path, '*', '*/')\n",
        "\n",
        "# Find all directories matching the pattern\n",
        "nested_directories = glob.glob(directories_pattern)\n",
        "\n",
        "for directory_path in nested_directories:\n",
        "    # Assuming screen.json is directly inside each dataset directory\n",
        "    screen_json_path = os.path.join(directory_path, 'screen.json')\n",
        "\n",
        "    try:\n",
        "        with open(screen_json_path, 'r') as file:\n",
        "            screen_data = json.load(file)\n",
        "            orientations = screen_data.get('Orientation', [])\n",
        "    except FileNotFoundError:\n",
        "        print(f\"File {screen_json_path} not found.\")\n",
        "        continue\n",
        "\n",
        "    frames_dir = os.path.join(directory_path, 'frames')\n",
        "    portrait_dir = os.path.join(directory_path, 'portrait')\n",
        "    os.makedirs(portrait_dir, exist_ok=True)\n",
        "\n",
        "    if orientations:\n",
        "        for frame_index, orientation in enumerate(orientations):\n",
        "            if orientation == 1:\n",
        "                frame_filename = f'{frame_index:05d}.jpg'\n",
        "                frame_path = os.path.join(frames_dir, frame_filename)\n",
        "                portrait_frame_path = os.path.join(portrait_dir, frame_filename)\n",
        "                if os.path.exists(frame_path):\n",
        "                    shutil.copy(frame_path, portrait_frame_path)\n",
        "                    print(f\"Copied {frame_filename} to portrait directory in {directory_path}.\")\n",
        "                else:\n",
        "                    print(f\"Frame {frame_filename} not found in {frames_dir}.\")\n",
        "    else:\n",
        "        print(\"No orientations found or error reading screen.json in directory:\", directory_path)"
      ],
      "metadata": {
        "colab": {
          "base_uri": "https://localhost:8080/"
        },
        "id": "Tlwo7W06ltiN",
        "outputId": "b2abdb58-3775-423b-e529-4774de802c98"
      },
      "execution_count": null,
      "outputs": [
        {
          "output_type": "stream",
          "name": "stdout",
          "text": [
            "Mounted at /content/drive\n"
          ]
        }
      ]
    }
  ]
}