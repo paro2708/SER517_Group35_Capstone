{
  "nbformat": 4,
  "nbformat_minor": 0,
  "metadata": {
    "colab": {
      "provenance": [],
      "include_colab_link": true
    },
    "kernelspec": {
      "name": "python3",
      "display_name": "Python 3"
    },
    "language_info": {
      "name": "python"
    }
  },
  "cells": [
    {
      "cell_type": "markdown",
      "metadata": {
        "id": "view-in-github",
        "colab_type": "text"
      },
      "source": [
        "<a href=\"https://colab.research.google.com/github/paro2708/SER517_Group35_Capstone/blob/data-preprocessing/DataProcessing.ipynb\" target=\"_parent\"><img src=\"https://colab.research.google.com/assets/colab-badge.svg\" alt=\"Open In Colab\"/></a>"
      ]
    },
    {
      "cell_type": "code",
      "execution_count": null,
      "metadata": {
        "id": "QRKI4B3JUg9x"
      },
      "outputs": [],
      "source": [
        "import os\n",
        "import json\n",
        "import shutil\n",
        "from sklearn.model_selection import train_test_split"
      ]
    },
    {
      "cell_type": "code",
      "source": [
        "dataset_path = 'https://drive.google.com/drive/folders/1tcOm7h7ag_pMEtubAUK1-ltiCSFtnuIl?usp=drive_link'\n",
        "output_path = 'https://drive.google.com/drive/folders/1tcOm7h7ag_pMEtubAUK1-ltiCSFtnuIl?usp=drive_link'"
      ],
      "metadata": {
        "id": "Lbdg_K9dUkP8"
      },
      "execution_count": null,
      "outputs": []
    },
    {
      "cell_type": "code",
      "source": [
        "def open_file(dataset_path,output_path):\n",
        "\n",
        "  #Read portrait orientation in screen.json\n",
        "  screen_details= json.load(open(dataset_path/'screen.json'))\n",
        "\n",
        "  #To check if image is portrait, then sort it into train and test folder\n",
        "  portrait_pictures = np.array(screen_details[\"Orientation\"]) == 1\n"
      ],
      "metadata": {
        "id": "gTbJfsLAaofR"
      },
      "execution_count": null,
      "outputs": []
    }
  ]
}