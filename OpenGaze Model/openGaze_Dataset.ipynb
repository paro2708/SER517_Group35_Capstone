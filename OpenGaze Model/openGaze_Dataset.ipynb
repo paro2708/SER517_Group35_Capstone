{
  "cells": [
    {
      "cell_type": "code",
      "execution_count": 4,
      "metadata": {
        "id": "LaShJw_Us2be"
      },
      "outputs": [],
      "source": [
        "#imports here"
      ]
    },
    {
      "cell_type": "code",
      "execution_count": 5,
      "metadata": {
        "id": "AAV6PA9Bs5fH"
      },
      "outputs": [],
      "source": [
        "class DatasetProcessing:\n",
        "\n",
        "  def __init__(self,df):\n",
        "    self.df = df\n",
        "    pass"
      ]
    },
    {
      "cell_type": "code",
      "execution_count": null,
      "metadata": {
        "id": "taL_v1MLtB71"
      },
      "outputs": [],
      "source": []
    }
  ],
  "metadata": {
    "colab": {
      "name": "Welcome To Colaboratory",
      "provenance": [],
      "toc_visible": true
    },
    "kernelspec": {
      "display_name": "Python 3",
      "name": "python3"
    }
  },
  "nbformat": 4,
  "nbformat_minor": 0
}
