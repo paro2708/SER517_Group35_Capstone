{
  "cells": [
    {
      "cell_type": "code",
      "source": [
        "#imports here"
      ],
      "metadata": {
        "id": "LaShJw_Us2be"
      },
      "execution_count": 4,
      "outputs": []
    },
    {
      "cell_type": "code",
      "source": [
        "class OpenGaze:\n",
        "\n",
        "  def __init__(self):\n",
        "    pass"
      ],
      "metadata": {
        "id": "AAV6PA9Bs5fH"
      },
      "execution_count": 5,
      "outputs": []
    },
    {
      "cell_type": "code",
      "source": [],
      "metadata": {
        "id": "taL_v1MLtB71"
      },
      "execution_count": null,
      "outputs": []
    }
  ],
  "metadata": {
    "colab": {
      "name": "Welcome To Colaboratory",
      "toc_visible": true,
      "provenance": []
    },
    "kernelspec": {
      "display_name": "Python 3",
      "name": "python3"
    }
  },
  "nbformat": 4,
  "nbformat_minor": 0
}