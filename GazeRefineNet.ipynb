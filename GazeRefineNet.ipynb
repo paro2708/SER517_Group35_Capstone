{
  "nbformat": 4,
  "nbformat_minor": 0,
  "metadata": {
    "colab": {
      "provenance": [],
      "authorship_tag": "ABX9TyPLz4s72m1b+rcjP7yGuNKR",
      "include_colab_link": true
    },
    "kernelspec": {
      "name": "python3",
      "display_name": "Python 3"
    },
    "language_info": {
      "name": "python"
    }
  },
  "cells": [
    {
      "cell_type": "markdown",
      "metadata": {
        "id": "view-in-github",
        "colab_type": "text"
      },
      "source": [
        "<a href=\"https://colab.research.google.com/github/paro2708/SER517_Group35_Capstone/blob/GazeRefineNet/GazeRefineNet.ipynb\" target=\"_parent\"><img src=\"https://colab.research.google.com/assets/colab-badge.svg\" alt=\"Open In Colab\"/></a>"
      ]
    },
    {
      "cell_type": "code",
      "execution_count": null,
      "metadata": {
        "id": "wK-9x2KQ9qKC"
      },
      "outputs": [],
      "source": [
        "import torch\n",
        "import torch.nn as nn\n",
        "import torch.nn.functional as F\n",
        "\n",
        "class GazeRefineNet(nn.Module):\n",
        "    def __init__(self):\n",
        "        super(GazeRefineNet, self).__init__()\n",
        "        # Example CNN layers for feature extraction\n",
        "        self.conv1 = nn.Conv2d(3, 32, kernel_size=5, stride=1, padding=2)\n",
        "        self.pool = nn.MaxPool2d(kernel_size=2, stride=2, padding=0)\n",
        "        self.conv2 = nn.Conv2d(32, 64, kernel_size=5, stride=1, padding=2)\n",
        "\n",
        "        # Example RNN layer for temporal processing\n",
        "        self.rnn = nn.LSTM(input_size=64*28*28, hidden_size=128, num_layers=1, batch_first=True)\n",
        "\n",
        "        # Output layer\n",
        "        self.fc1 = nn.Linear(128, 2)  # Assuming output is 2D gaze point\n",
        "\n",
        "    def forward(self, x_eye_left, x_eye_right, x_screen):\n",
        "        # Example of processing left eye image through CNN\n",
        "        x = F.relu(self.conv1(x_eye_left))\n",
        "        x = self.pool(x)\n",
        "        x = F.relu(self.conv2(x))\n",
        "        x = x.view(x.size(0), -1)  # Flatten for RNN input\n",
        "\n",
        "        # Process through RNN (assuming temporal dimension is already included in input)\n",
        "        x, _ = self.rnn(x.unsqueeze(0))  # Add batch dimension if necessary\n",
        "\n",
        "        # Pass RNN output through fully connected layer\n",
        "        x = self.fc1(x[:, -1, :])  # Get last time step output\n",
        "        return x\n",
        "\n",
        "# Example usage\n",
        "model = GazeRefineNet()\n",
        "# Example tensor for left eye image\n",
        "x_eye_left = torch.randn(1, 3, 224, 224)  # Example size (batch_size, channels, height, width)\n",
        "# Example tensor for right eye image (not used in this simplified example)\n",
        "x_eye_right = torch.randn(1, 3, 224, 224)\n",
        "# Example tensor for screen content (not used in this simplified example)\n",
        "x_screen = torch.randn(1, 3, 224, 224)\n",
        "\n",
        "# Forward pass\n",
        "output = model(x_eye_left, x_eye_right, x_screen)\n",
        "print(output)"
      ]
    }
  ]
}