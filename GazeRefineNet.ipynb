{
  "nbformat": 4,
  "nbformat_minor": 0,
  "metadata": {
    "colab": {
      "provenance": [],
      "authorship_tag": "ABX9TyOuc0+ERIeeW199+wj46sUk",
      "include_colab_link": true
    },
    "kernelspec": {
      "name": "python3",
      "display_name": "Python 3"
    },
    "language_info": {
      "name": "python"
    }
  },
  "cells": [
    {
      "cell_type": "markdown",
      "metadata": {
        "id": "view-in-github",
        "colab_type": "text"
      },
      "source": [
        "<a href=\"https://colab.research.google.com/github/paro2708/SER517_Group35_Capstone/blob/GazeRefineNet/GazeRefineNet.ipynb\" target=\"_parent\"><img src=\"https://colab.research.google.com/assets/colab-badge.svg\" alt=\"Open In Colab\"/></a>"
      ]
    },
    {
      "cell_type": "code",
      "execution_count": null,
      "metadata": {
        "id": "wK-9x2KQ9qKC"
      },
      "outputs": [],
      "source": [
        "import torch\n",
        "import torch.nn as nn\n",
        "import torch.nn.functional as F\n",
        "\n",
        "class GazeRefineNet(nn.Module):\n",
        "    def __init__(self, config):\n",
        "        super(GazeRefineNet, self).__init__()\n",
        "        # Dynamically set input channels based on configuration\n",
        "        in_channels = 4 if config['load_screen_content'] else 1\n",
        "        self.do_skip = config['use_skip_connections']\n",
        "\n",
        "        # Define initial convolution layers to process the input image\n",
        "        self.initial_conv = nn.Sequential(\n",
        "            nn.Conv2d(in_channels, 16, kernel_size=3, padding=1),\n",
        "            nn.InstanceNorm2d(16),\n",
        "            nn.ReLU(inplace=True),\n",
        "            nn.Conv2d(16, 16, kernel_size=3, padding=1),\n",
        "            nn.ReLU(inplace=True)\n",
        "        )\n",
        "\n",
        "        # Example of a simplified backbone architecture\n",
        "        self.backbone = nn.Sequential(\n",
        "            nn.Conv2d(16, 32, kernel_size=3, stride=2, padding=1),\n",
        "            nn.ReLU(inplace=True),\n",
        "            # Additional layers would be added here...\n",
        "        )\n",
        "\n",
        "        # Final convolution to generate the heatmap\n",
        "        self.final_conv = nn.Sequential(\n",
        "            nn.Conv2d(32, 1, kernel_size=1),\n",
        "            nn.Sigmoid()  # Assuming the output is a heatmap\n",
        "        )\n",
        "\n",
        "    def forward(self, input_dict):\n",
        "        # Example preprocessing step\n",
        "        # Assuming input_dict contains 'screen_frame' and 'heatmap_initial'\n",
        "        if config['load_screen_content']:\n",
        "            input_image = torch.cat([input_dict['screen_frame'], input_dict['heatmap_initial']], dim=1)\n",
        "        else:\n",
        "            input_image = input_dict['heatmap_initial']\n",
        "\n",
        "        # Pass through initial convolutions\n",
        "        x = self.initial_conv(input_image)\n",
        "        # Pass through the backbone\n",
        "        x = self.backbone(x)\n",
        "        # Generate final heatmap\n",
        "        final_heatmap = self.final_conv(x)\n",
        "\n",
        "        return final_heatmap\n",
        "\n",
        "# Need to change configuration accordingly\n",
        "config = {\n",
        "    'load_screen_content': True,\n",
        "    'use_skip_connections': True,\n",
        "}\n",
        "\n",
        "# Initialize the model\n",
        "model = GazeRefineNet(config)\n"
      ]
    }
  ]
}